{
  "cells": [
    {
      "cell_type": "markdown",
      "metadata": {
        "id": "view-in-github",
        "colab_type": "text"
      },
      "source": [
        "<a href=\"https://colab.research.google.com/github/DUNGTK2004/deep-models-from-scratch/blob/main/VisionTransformer.ipynb\" target=\"_parent\"><img src=\"https://colab.research.google.com/assets/colab-badge.svg\" alt=\"Open In Colab\"/></a>"
      ]
    },
    {
      "cell_type": "markdown",
      "source": [
        "### Import dependencies"
      ],
      "metadata": {
        "id": "tL1rsB_WPUWQ"
      }
    },
    {
      "cell_type": "code",
      "execution_count": 78,
      "metadata": {
        "id": "v53V1YaLDnBc"
      },
      "outputs": [],
      "source": [
        "import torch\n",
        "import torchvision\n",
        "import torchvision.datasets as datasets\n",
        "from torchvision.transforms import ToTensor\n",
        "import torchvision.models as models\n",
        "import torch.nn as nn\n",
        "import torch.nn.functional as F\n",
        "import torch.optim as optim\n",
        "import torchvision\n",
        "from torchvision import transforms as T\n",
        "import matplotlib.pyplot as plt\n",
        "import numpy as np\n",
        "import time\n",
        "import tqdm\n"
      ]
    },
    {
      "cell_type": "markdown",
      "source": [
        "### Load data"
      ],
      "metadata": {
        "id": "C1IQcaa5PaE-"
      }
    },
    {
      "cell_type": "code",
      "source": [
        "batch_size = 64\n",
        "transform = T.Compose([\n",
        "    T.ToTensor(),\n",
        "    # T.Lambda(lambda x: x.repeat(3, 1, 1)),\n",
        "    # T.Normalize(mean=[0.485, 0.456, 0.406], std=[0.229, 0.224, 0.225]),\n",
        "    ])\n"
      ],
      "metadata": {
        "id": "IKbgiCzyGP2w"
      },
      "execution_count": 95,
      "outputs": []
    },
    {
      "cell_type": "code",
      "execution_count": 96,
      "metadata": {
        "id": "dUJAmbjdExQa"
      },
      "outputs": [],
      "source": [
        "mnist_trainset = datasets.MNIST(root='./data', train=True, download=True, transform=transform)\n",
        "mnist_testset = datasets.MNIST(root='./data', train=False, download=True, transform=transform)"
      ]
    },
    {
      "cell_type": "code",
      "execution_count": 97,
      "metadata": {
        "id": "-JHqYTynEzzb"
      },
      "outputs": [],
      "source": [
        "mnist_trainloader = torch.utils.data.DataLoader(mnist_trainset, batch_size=batch_size, shuffle=True, num_workers=2)\n",
        "mnist_testloader = torch.utils.data.DataLoader(mnist_testset, batch_size=batch_size, shuffle=False, num_workers=2)"
      ]
    },
    {
      "cell_type": "markdown",
      "metadata": {
        "id": "Irryk7vHE7EP"
      },
      "source": [
        "### Model pretrained ViT\n",
        "\n"
      ]
    },
    {
      "cell_type": "code",
      "source": [
        "device = \"cuda\" if torch.cuda.is_available() else \"cpu\""
      ],
      "metadata": {
        "id": "XpE0iPeXHbMK"
      },
      "execution_count": null,
      "outputs": []
    },
    {
      "cell_type": "code",
      "execution_count": null,
      "metadata": {
        "id": "xWrw2PXNFCJh",
        "colab": {
          "base_uri": "https://localhost:8080/"
        },
        "outputId": "235d3ee9-0877-40d5-c432-d4a73798ee15"
      },
      "outputs": [
        {
          "output_type": "stream",
          "name": "stderr",
          "text": [
            "Downloading: \"https://download.pytorch.org/models/vit_b_16-c867db91.pth\" to /root/.cache/torch/hub/checkpoints/vit_b_16-c867db91.pth\n",
            "100%|██████████| 330M/330M [00:06<00:00, 56.7MB/s]\n"
          ]
        },
        {
          "output_type": "stream",
          "name": "stdout",
          "text": [
            "ImageClassification(\n",
            "    crop_size=[224]\n",
            "    resize_size=[256]\n",
            "    mean=[0.485, 0.456, 0.406]\n",
            "    std=[0.229, 0.224, 0.225]\n",
            "    interpolation=InterpolationMode.BILINEAR\n",
            ")\n"
          ]
        }
      ],
      "source": [
        "pretrained_vit_weights = torchvision.models.ViT_B_16_Weights.DEFAULT\n",
        "pretrained_vit = torchvision.models.vit_b_16(weights=pretrained_vit_weights).to(device)\n",
        "# for parameter in pretrained_vit.parameters():\n",
        "#   parameter.requires_grad = False\n",
        "\n",
        "pretrained_vit_transforms = pretrained_vit_weights.transforms()\n",
        "print(pretrained_vit_transforms)"
      ]
    },
    {
      "cell_type": "code",
      "source": [
        "model = pretrained_vit\n",
        "total_params = sum(p.numel() for p in model.parameters())\n",
        "print(total_params)"
      ],
      "metadata": {
        "colab": {
          "base_uri": "https://localhost:8080/"
        },
        "id": "cdXv7TfNJD8D",
        "outputId": "a3079f86-40a7-4b8f-a5c9-f90995ad19c2"
      },
      "execution_count": null,
      "outputs": [
        {
          "output_type": "stream",
          "name": "stdout",
          "text": [
            "86567656\n"
          ]
        }
      ]
    },
    {
      "cell_type": "markdown",
      "source": [
        "### ViT from scratch"
      ],
      "metadata": {
        "id": "NFr3Amr_9CGK"
      }
    },
    {
      "cell_type": "code",
      "source": [
        "def img_to_patch(x, patch_size, flatten_channels=True):\n",
        "  B, C, H, W = x.shape\n",
        "  x = x.reshape(B, C, H//patch_size, patch_size, W//patch_size, patch_size) # B, C, H', P, W', P\n",
        "  x = x.permute(0, 2, 4, 1, 3, 5) # B, H', W', C, P, P\n",
        "  x = x.flatten(1, 2)             # B, H' * W', C, P, P\n",
        "  if flatten_channels:\n",
        "    x = x.flatten(2, 4)           # B, H' * W', C * P * P\n",
        "  return x"
      ],
      "metadata": {
        "id": "6xe5VdUoGhA2"
      },
      "execution_count": 98,
      "outputs": []
    },
    {
      "cell_type": "markdown",
      "source": [
        "Visualize the patches of image"
      ],
      "metadata": {
        "id": "qg7vs1dGJCw9"
      }
    },
    {
      "cell_type": "code",
      "source": [
        "image = mnist_trainset[0][0].unsqueeze(0)\n",
        "_, C, H, W = image.shape\n",
        "print(image.shape)\n",
        "img_patches = img_to_patch(image, patch_size=7, flatten_channels=False)\n",
        "img_grid = torchvision.utils.make_grid(img_patches[0], nrow=H//7, normalize=True, pad_value=0.9)\n",
        "img_grid = img_grid.permute(1, 2, 0)\n",
        "plt.imshow(img_grid)\n"
      ],
      "metadata": {
        "colab": {
          "base_uri": "https://localhost:8080/",
          "height": 499
        },
        "id": "wxF2pJAZJwzy",
        "outputId": "9144113d-7bc6-4b08-f140-e68a791b54c4"
      },
      "execution_count": null,
      "outputs": [
        {
          "output_type": "stream",
          "name": "stdout",
          "text": [
            "torch.Size([1, 1, 28, 28])\n",
            "1 1 28 28 7\n",
            "torch.Size([1, 16, 1, 7, 7])\n"
          ]
        },
        {
          "output_type": "execute_result",
          "data": {
            "text/plain": [
              "<matplotlib.image.AxesImage at 0x7afc2dc911d0>"
            ]
          },
          "metadata": {},
          "execution_count": 56
        },
        {
          "output_type": "display_data",
          "data": {
            "text/plain": [
              "<Figure size 640x480 with 1 Axes>"
            ],
            "image/png": "[encoded data removed]"
          },
          "metadata": {}
        }
      ]
    },
    {
      "cell_type": "markdown",
      "source": [
        "Test multihead attention from scratch but not efficiently"
      ],
      "metadata": {
        "id": "sMxfYAYJZMGk"
      }
    },
    {
      "cell_type": "code",
      "source": [
        "class AttentionHead(nn.Module):\n",
        "  def __init__(self, d_model, head_size, dropout=0.1):\n",
        "    super().__init__()\n",
        "    self.head_size = head_size\n",
        "    self.query = nn.Linear(d_model, head_size, bias=False)\n",
        "    self.key = nn.Linear(d_model, head_size, bias=False)\n",
        "    self.value = nn.Linear(d_model, head_size, bias=False)\n",
        "    self.dropout = nn.Dropout(dropout)\n",
        "  def forward(self, x):\n",
        "    Q = self.query(x)\n",
        "    K = self.key(x)\n",
        "    V = self.value(x)\n",
        "\n",
        "    attention = Q @ K.transpose(-2, -1)\n",
        "    attention = attention / (self.head_size ** 0.5)\n",
        "    attention = torch.softmax(attention, dim=-1)\n",
        "    attention= self.dropout(attention)\n",
        "    attention = attention @ V\n",
        "\n",
        "    # attention = F.scaled_dot_product_attention(Q, K, V, dropout_p=0.1)\n",
        "\n",
        "    return attention"
      ],
      "metadata": {
        "id": "s6RNNNaYR41p"
      },
      "execution_count": 66,
      "outputs": []
    },
    {
      "cell_type": "code",
      "source": [
        "class MultiheadAttention(nn.Module):\n",
        "  def __init__(self, d_model, n_heads):\n",
        "    super().__init__()\n",
        "    self.head_size = d_model // n_heads\n",
        "\n",
        "    self.W_o = nn.Linear(d_model, d_model)\n",
        "    self.heads = nn.ModuleList([AttentionHead(d_model, self.head_size) for _ in range(n_heads)])\n",
        "    self.layer_norm = nn.LayerNorm(d_model)\n",
        "  def forward(self, x):\n",
        "    out = torch.cat([head(x) for head in self.heads], dim=-1)\n",
        "    out = self.W_o(out)\n",
        "    return self.layer_norm(out)\n"
      ],
      "metadata": {
        "id": "5qRGbzGqTekj"
      },
      "execution_count": 67,
      "outputs": []
    },
    {
      "cell_type": "code",
      "source": [
        "class AttentionBlock(nn.Module):\n",
        "  def __init__(self, embed_dim, hidden_dim, num_heads, dropout=0.0):\n",
        "    super().__init__()\n",
        "    self.layer_norm1 = nn.LayerNorm(embed_dim)\n",
        "    self.mha = nn.MultiheadAttention(embed_dim, num_heads)\n",
        "    self.layer_norm2 = nn.LayerNorm(embed_dim)\n",
        "    self.mlp = nn.Sequential(\n",
        "        nn.Linear(embed_dim, hidden_dim),\n",
        "        nn.GELU(),\n",
        "        nn.Dropout(dropout),\n",
        "        nn.Linear(hidden_dim, embed_dim),\n",
        "        nn.Dropout(dropout)\n",
        "    )\n",
        "\n",
        "  def forward(self, x):\n",
        "    input = self.layer_norm1(x)\n",
        "    x = x + self.mha(input, input, input)[0]\n",
        "    x = x + self.mlp(self.layer_norm2(x))\n",
        "    return x"
      ],
      "metadata": {
        "id": "fi0gOp6u9E_z"
      },
      "execution_count": 99,
      "outputs": []
    },
    {
      "cell_type": "code",
      "source": [
        "class VisionTransformer(nn.Module):\n",
        "  def __init__(self, num_channel, patch_size, embed_dim, num_patch,\n",
        "               hidden_dim, num_heads, num_layers, num_classes, dropout=0.0):\n",
        "    super().__init__()\n",
        "\n",
        "    self.patch_size = patch_size\n",
        "\n",
        "    self.input_layer = nn.Linear(num_channel * (patch_size ** 2), embed_dim) # because output of patch image layer is num_channels * (P ** 2)\n",
        "    self.cls_token = nn.Parameter(torch.rand(1, 1, embed_dim))\n",
        "    self.position_embedding = nn.Parameter(torch.rand(1, 1 + num_patch, embed_dim))\n",
        "\n",
        "    self.transformer_encoder = nn.Sequential(\n",
        "        *(AttentionBlock(embed_dim, hidden_dim, num_heads, dropout) for _ in range(num_layers))\n",
        "    )\n",
        "    self.mlp = nn.Sequential(\n",
        "        nn.LayerNorm(embed_dim),\n",
        "        nn.Linear(embed_dim, num_classes)\n",
        "    )\n",
        "    self.dropout = nn.Dropout(dropout)\n",
        "\n",
        "  def forward(self, x):\n",
        "    x = img_to_patch(x, self.patch_size, flatten_channels=True) # batch, num_patch, (c * patch_size ** 2)\n",
        "    B, N, _ = x.shape\n",
        "    x = self.input_layer(x)\n",
        "\n",
        "    cls_token = self.cls_token.repeat(B, 1, 1)\n",
        "    x = torch.cat([cls_token, x], dim=1)\n",
        "    x = x + self.position_embedding[:, : N + 1]\n",
        "\n",
        "    x = self.dropout(x)\n",
        "    x = x.transpose(1, 0) # -> num_patch+1, batch_size, embed để phù hợp với output transformer\n",
        "    x = self.transformer_encoder(x)\n",
        "    cls_token = x[0]\n",
        "    x = self.mlp(cls_token)\n",
        "    x = self.dropout(x)\n",
        "    return x\n"
      ],
      "metadata": {
        "id": "SIXPK8TSWQAg"
      },
      "execution_count": 100,
      "outputs": []
    },
    {
      "cell_type": "code",
      "source": [
        "# parameter\n",
        "num_channel = 1\n",
        "patch_size = 7\n",
        "embed_dim = 256\n",
        "num_patch = 16\n",
        "hidden_dim = embed_dim * 3\n",
        "num_heads = 8\n",
        "num_layers = 6\n",
        "num_classes = 10\n",
        "dropout = 0.2"
      ],
      "metadata": {
        "id": "2-Qe7JNhHsxn"
      },
      "execution_count": 102,
      "outputs": []
    },
    {
      "cell_type": "code",
      "source": [
        "model = VisionTransformer(num_channel=num_channel, patch_size=patch_size,\n",
        "                          embed_dim=embed_dim, num_patch=num_patch,\n",
        "                          hidden_dim=hidden_dim, num_heads=num_heads,\n",
        "                          num_layers=num_layers, num_classes=num_classes,\n",
        "                          dropout=dropout)"
      ],
      "metadata": {
        "id": "gjZX9c4gGpnz"
      },
      "execution_count": 103,
      "outputs": []
    },
    {
      "cell_type": "code",
      "source": [
        "total_params = sum(p.numel() for p in model.parameters())\n",
        "print(total_params)"
      ],
      "metadata": {
        "colab": {
          "base_uri": "https://localhost:8080/"
        },
        "id": "AaCMyDdlP3QJ",
        "outputId": "cbe08adb-9f58-451d-b122-496ef09b0a98"
      },
      "execution_count": 43,
      "outputs": [
        {
          "output_type": "stream",
          "name": "stdout",
          "text": [
            "3971082\n"
          ]
        }
      ]
    },
    {
      "cell_type": "code",
      "source": [
        "model"
      ],
      "metadata": {
        "colab": {
          "base_uri": "https://localhost:8080/"
        },
        "id": "NwfQgjo3J28P",
        "outputId": "b53ccb8b-6fc2-478d-c3cc-42dce7b438cf"
      },
      "execution_count": 53,
      "outputs": [
        {
          "output_type": "execute_result",
          "data": {
            "text/plain": [
              "VisionTransformer(\n",
              "  (input_layer): Linear(in_features=49, out_features=256, bias=True)\n",
              "  (transformer_encoder): Sequential(\n",
              "    (0): AttentionBlock(\n",
              "      (layer_norm1): LayerNorm((256,), eps=1e-05, elementwise_affine=True)\n",
              "      (mha): MultiheadAttention(\n",
              "        (out_proj): NonDynamicallyQuantizableLinear(in_features=256, out_features=256, bias=True)\n",
              "      )\n",
              "      (layer_norm2): LayerNorm((256,), eps=1e-05, elementwise_affine=True)\n",
              "      (mlp): Sequential(\n",
              "        (0): Linear(in_features=256, out_features=768, bias=True)\n",
              "        (1): GELU(approximate='none')\n",
              "        (2): Dropout(p=0.2, inplace=False)\n",
              "        (3): Linear(in_features=768, out_features=256, bias=True)\n",
              "        (4): Dropout(p=0.2, inplace=False)\n",
              "      )\n",
              "    )\n",
              "    (1): AttentionBlock(\n",
              "      (layer_norm1): LayerNorm((256,), eps=1e-05, elementwise_affine=True)\n",
              "      (mha): MultiheadAttention(\n",
              "        (out_proj): NonDynamicallyQuantizableLinear(in_features=256, out_features=256, bias=True)\n",
              "      )\n",
              "      (layer_norm2): LayerNorm((256,), eps=1e-05, elementwise_affine=True)\n",
              "      (mlp): Sequential(\n",
              "        (0): Linear(in_features=256, out_features=768, bias=True)\n",
              "        (1): GELU(approximate='none')\n",
              "        (2): Dropout(p=0.2, inplace=False)\n",
              "        (3): Linear(in_features=768, out_features=256, bias=True)\n",
              "        (4): Dropout(p=0.2, inplace=False)\n",
              "      )\n",
              "    )\n",
              "    (2): AttentionBlock(\n",
              "      (layer_norm1): LayerNorm((256,), eps=1e-05, elementwise_affine=True)\n",
              "      (mha): MultiheadAttention(\n",
              "        (out_proj): NonDynamicallyQuantizableLinear(in_features=256, out_features=256, bias=True)\n",
              "      )\n",
              "      (layer_norm2): LayerNorm((256,), eps=1e-05, elementwise_affine=True)\n",
              "      (mlp): Sequential(\n",
              "        (0): Linear(in_features=256, out_features=768, bias=True)\n",
              "        (1): GELU(approximate='none')\n",
              "        (2): Dropout(p=0.2, inplace=False)\n",
              "        (3): Linear(in_features=768, out_features=256, bias=True)\n",
              "        (4): Dropout(p=0.2, inplace=False)\n",
              "      )\n",
              "    )\n",
              "    (3): AttentionBlock(\n",
              "      (layer_norm1): LayerNorm((256,), eps=1e-05, elementwise_affine=True)\n",
              "      (mha): MultiheadAttention(\n",
              "        (out_proj): NonDynamicallyQuantizableLinear(in_features=256, out_features=256, bias=True)\n",
              "      )\n",
              "      (layer_norm2): LayerNorm((256,), eps=1e-05, elementwise_affine=True)\n",
              "      (mlp): Sequential(\n",
              "        (0): Linear(in_features=256, out_features=768, bias=True)\n",
              "        (1): GELU(approximate='none')\n",
              "        (2): Dropout(p=0.2, inplace=False)\n",
              "        (3): Linear(in_features=768, out_features=256, bias=True)\n",
              "        (4): Dropout(p=0.2, inplace=False)\n",
              "      )\n",
              "    )\n",
              "    (4): AttentionBlock(\n",
              "      (layer_norm1): LayerNorm((256,), eps=1e-05, elementwise_affine=True)\n",
              "      (mha): MultiheadAttention(\n",
              "        (out_proj): NonDynamicallyQuantizableLinear(in_features=256, out_features=256, bias=True)\n",
              "      )\n",
              "      (layer_norm2): LayerNorm((256,), eps=1e-05, elementwise_affine=True)\n",
              "      (mlp): Sequential(\n",
              "        (0): Linear(in_features=256, out_features=768, bias=True)\n",
              "        (1): GELU(approximate='none')\n",
              "        (2): Dropout(p=0.2, inplace=False)\n",
              "        (3): Linear(in_features=768, out_features=256, bias=True)\n",
              "        (4): Dropout(p=0.2, inplace=False)\n",
              "      )\n",
              "    )\n",
              "    (5): AttentionBlock(\n",
              "      (layer_norm1): LayerNorm((256,), eps=1e-05, elementwise_affine=True)\n",
              "      (mha): MultiheadAttention(\n",
              "        (out_proj): NonDynamicallyQuantizableLinear(in_features=256, out_features=256, bias=True)\n",
              "      )\n",
              "      (layer_norm2): LayerNorm((256,), eps=1e-05, elementwise_affine=True)\n",
              "      (mlp): Sequential(\n",
              "        (0): Linear(in_features=256, out_features=768, bias=True)\n",
              "        (1): GELU(approximate='none')\n",
              "        (2): Dropout(p=0.2, inplace=False)\n",
              "        (3): Linear(in_features=768, out_features=256, bias=True)\n",
              "        (4): Dropout(p=0.2, inplace=False)\n",
              "      )\n",
              "    )\n",
              "  )\n",
              "  (mlp): Sequential(\n",
              "    (0): LayerNorm((256,), eps=1e-05, elementwise_affine=True)\n",
              "    (1): Linear(in_features=256, out_features=10, bias=True)\n",
              "  )\n",
              "  (dropout): Dropout(p=0.2, inplace=False)\n",
              ")"
            ]
          },
          "metadata": {},
          "execution_count": 53
        }
      ]
    },
    {
      "cell_type": "markdown",
      "source": [
        "### Train/test"
      ],
      "metadata": {
        "id": "dDLY5IQqPfyN"
      }
    },
    {
      "cell_type": "code",
      "execution_count": 11,
      "metadata": {
        "id": "_1Tce2akE_2H"
      },
      "outputs": [],
      "source": [
        "def test_accuracy(data_iter, net):\n",
        "  acc_sum, n = 0, 0\n",
        "  for (imgs, labels) in data_iter:\n",
        "    # send data to the GPU if cuda is available\n",
        "    if torch.cuda.is_available():\n",
        "      imgs = imgs.cuda()\n",
        "      labels = labels.cuda()\n",
        "    net.eval()\n",
        "    with torch.no_grad():\n",
        "      labels = labels.long()\n",
        "      acc_sum += torch.sum((torch.argmax(net(imgs), dim=1) == labels)).float()\n",
        "      n += labels.shape[0]\n",
        "\n",
        "  return acc_sum.item()/n"
      ]
    },
    {
      "cell_type": "code",
      "execution_count": 104,
      "metadata": {
        "id": "9C7EzrboE8jo",
        "colab": {
          "base_uri": "https://localhost:8080/"
        },
        "outputId": "a044d8b1-6ae6-48c2-9db4-2a0aa0f09399"
      },
      "outputs": [
        {
          "output_type": "stream",
          "name": "stderr",
          "text": [
            "938it [00:26, 35.72it/s]\n"
          ]
        },
        {
          "output_type": "stream",
          "name": "stdout",
          "text": [
            "epoch 1, loss 0.0207, train acc 0.536, test acc 0.828, time 28.8 sec\n"
          ]
        },
        {
          "output_type": "stream",
          "name": "stderr",
          "text": [
            "938it [00:23, 39.13it/s]\n"
          ]
        },
        {
          "output_type": "stream",
          "name": "stdout",
          "text": [
            "epoch 2, loss 0.0130, train acc 0.713, test acc 0.875, time 26.3 sec\n"
          ]
        },
        {
          "output_type": "stream",
          "name": "stderr",
          "text": [
            "938it [00:24, 39.08it/s]\n"
          ]
        },
        {
          "output_type": "stream",
          "name": "stdout",
          "text": [
            "epoch 3, loss 0.0101, train acc 0.769, test acc 0.911, time 26.1 sec\n"
          ]
        },
        {
          "output_type": "stream",
          "name": "stderr",
          "text": [
            "938it [00:23, 39.26it/s]\n"
          ]
        },
        {
          "output_type": "stream",
          "name": "stdout",
          "text": [
            "epoch 4, loss 0.0094, train acc 0.780, test acc 0.899, time 25.9 sec\n"
          ]
        },
        {
          "output_type": "stream",
          "name": "stderr",
          "text": [
            "938it [00:24, 38.95it/s]\n"
          ]
        },
        {
          "output_type": "stream",
          "name": "stdout",
          "text": [
            "epoch 5, loss 0.0087, train acc 0.796, test acc 0.922, time 26.1 sec\n"
          ]
        },
        {
          "output_type": "stream",
          "name": "stderr",
          "text": [
            "938it [00:24, 38.39it/s]\n"
          ]
        },
        {
          "output_type": "stream",
          "name": "stdout",
          "text": [
            "epoch 6, loss 0.0094, train acc 0.782, test acc 0.909, time 26.7 sec\n"
          ]
        },
        {
          "output_type": "stream",
          "name": "stderr",
          "text": [
            "938it [00:23, 39.31it/s]\n"
          ]
        },
        {
          "output_type": "stream",
          "name": "stdout",
          "text": [
            "epoch 7, loss 0.0084, train acc 0.799, test acc 0.926, time 26.4 sec\n"
          ]
        },
        {
          "output_type": "stream",
          "name": "stderr",
          "text": [
            "938it [00:24, 38.97it/s]\n"
          ]
        },
        {
          "output_type": "stream",
          "name": "stdout",
          "text": [
            "epoch 8, loss 0.0086, train acc 0.795, test acc 0.917, time 26.1 sec\n"
          ]
        },
        {
          "output_type": "stream",
          "name": "stderr",
          "text": [
            "938it [00:23, 39.39it/s]\n"
          ]
        },
        {
          "output_type": "stream",
          "name": "stdout",
          "text": [
            "epoch 9, loss 0.0084, train acc 0.799, test acc 0.917, time 25.8 sec\n"
          ]
        },
        {
          "output_type": "stream",
          "name": "stderr",
          "text": [
            "938it [00:23, 39.37it/s]\n"
          ]
        },
        {
          "output_type": "stream",
          "name": "stdout",
          "text": [
            "epoch 10, loss 0.0084, train acc 0.800, test acc 0.903, time 25.8 sec\n"
          ]
        }
      ],
      "source": [
        "if torch.cuda.is_available():\n",
        " model =model.cuda()\n",
        "\n",
        "opt = optim.Adam(model.parameters(), lr=0.01, weight_decay=0.0005)\n",
        "\n",
        "criterion = nn.CrossEntropyLoss()\n",
        "\n",
        "model_scheduler = optim.lr_scheduler.MultiStepLR(opt, milestones=[10, 20], gamma=0.1)\n",
        "\n",
        "\n",
        "for epoch in range(0, 10):\n",
        "  n, start = 0, time.time()\n",
        "  train_l_sum = torch.tensor([0.0], dtype=torch.float32)\n",
        "  train_acc_sum = torch.tensor([0.0], dtype=torch.float32)\n",
        "  for i, (imgs, labels) in tqdm.tqdm(enumerate(mnist_trainloader)):\n",
        "    model.train()\n",
        "    # If training on GPU\n",
        "    if torch.cuda.is_available():\n",
        "      imgs = imgs.cuda()\n",
        "      labels = labels.cuda()\n",
        "      train_l_sum = train_l_sum.cuda()\n",
        "      train_acc_sum = train_acc_sum.cuda()\n",
        "\n",
        "    opt.zero_grad()\n",
        "\n",
        "    # loss function\n",
        "    output =model(imgs)\n",
        "\n",
        "    loss = criterion(output, labels)\n",
        "    loss.backward()\n",
        "    opt.step()\n",
        "\n",
        "    # Calculate training error\n",
        "    model.eval()\n",
        "    labels = labels.long()\n",
        "    train_l_sum += loss.float()\n",
        "    train_acc_sum += (torch.sum((torch.argmax(output, dim=1) == labels))).float()\n",
        "    n += labels.shape[0]\n",
        "  model_scheduler.step()\n",
        "  test_acc = test_accuracy(iter(mnist_testloader),model)\n",
        "  print('epoch %d, loss %.4f, train acc %.3f, test acc %.3f, time %.1f sec' \\\n",
        "        % (epoch + 1, train_l_sum/n, train_acc_sum/n, test_acc, time.time()-start))"
      ]
    },
    {
      "cell_type": "code",
      "source": [],
      "metadata": {
        "id": "eIUzWxoTKR3N"
      },
      "execution_count": null,
      "outputs": []
    }
  ],
  "metadata": {
    "colab": {
      "provenance": [],
      "gpuType": "T4",
      "authorship_tag": "ABX9TyNuBocPPlZSpzU/lIILSRcd",
      "include_colab_link": true
    },
    "kernelspec": {
      "display_name": "Python 3",
      "name": "python3"
    },
    "language_info": {
      "name": "python"
    },
    "accelerator": "GPU"
  },
  "nbformat": 4,
  "nbformat_minor": 0
}